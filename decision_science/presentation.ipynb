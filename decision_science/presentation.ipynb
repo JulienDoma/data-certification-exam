{
 "cells": [
  {
   "cell_type": "markdown",
   "id": "6ef72d07",
   "metadata": {
    "slideshow": {
     "slide_type": "slide"
    }
   },
   "source": [
    "# How can we catch more bad guys ?"
   ]
  },
  {
   "cell_type": "code",
   "execution_count": 30,
   "id": "54c7b27e",
   "metadata": {
    "slideshow": {
     "slide_type": "skip"
    }
   },
   "outputs": [],
   "source": [
    "import matplotlib.pyplot as plt\n",
    "from matplotlib.pyplot import figure\n",
    "import pandas as pd\n",
    "import numpy as np"
   ]
  },
  {
   "cell_type": "code",
   "execution_count": 2,
   "id": "6b7cfd20",
   "metadata": {
    "slideshow": {
     "slide_type": "skip"
    }
   },
   "outputs": [
    {
     "name": "stdout",
     "output_type": "stream",
     "text": [
      "Shape of the DataFrame: (237221, 9)\n"
     ]
    },
    {
     "data": {
      "text/html": [
       "<div>\n",
       "<style scoped>\n",
       "    .dataframe tbody tr th:only-of-type {\n",
       "        vertical-align: middle;\n",
       "    }\n",
       "\n",
       "    .dataframe tbody tr th {\n",
       "        vertical-align: top;\n",
       "    }\n",
       "\n",
       "    .dataframe thead th {\n",
       "        text-align: right;\n",
       "    }\n",
       "</style>\n",
       "<table border=\"1\" class=\"dataframe\">\n",
       "  <thead>\n",
       "    <tr style=\"text-align: right;\">\n",
       "      <th></th>\n",
       "      <th>INCIDENT_NUMBER</th>\n",
       "      <th>OFFENSE_CODE_GROUP</th>\n",
       "      <th>SHOOTING</th>\n",
       "      <th>OCCURRED_ON_DATE</th>\n",
       "      <th>LAT</th>\n",
       "      <th>LONG</th>\n",
       "      <th>NAME</th>\n",
       "      <th>LAT_POLICE_STATION</th>\n",
       "      <th>LONG_POLICE_STATION</th>\n",
       "    </tr>\n",
       "  </thead>\n",
       "  <tbody>\n",
       "    <tr>\n",
       "      <th>0</th>\n",
       "      <td>I192068249</td>\n",
       "      <td>Other</td>\n",
       "      <td>0</td>\n",
       "      <td>2015-08-28 10:20:00</td>\n",
       "      <td>42.330119</td>\n",
       "      <td>-71.084251</td>\n",
       "      <td>Roxbury</td>\n",
       "      <td>42.328894</td>\n",
       "      <td>-71.085359</td>\n",
       "    </tr>\n",
       "    <tr>\n",
       "      <th>1</th>\n",
       "      <td>I182074094</td>\n",
       "      <td>Violence and harassment</td>\n",
       "      <td>0</td>\n",
       "      <td>2015-09-14 09:31:00</td>\n",
       "      <td>42.315142</td>\n",
       "      <td>-71.067047</td>\n",
       "      <td>Roxbury</td>\n",
       "      <td>42.328894</td>\n",
       "      <td>-71.085359</td>\n",
       "    </tr>\n",
       "    <tr>\n",
       "      <th>2</th>\n",
       "      <td>I182054888</td>\n",
       "      <td>Violence and harassment</td>\n",
       "      <td>0</td>\n",
       "      <td>2015-07-12 15:37:00</td>\n",
       "      <td>42.312243</td>\n",
       "      <td>-71.075499</td>\n",
       "      <td>Roxbury</td>\n",
       "      <td>42.328894</td>\n",
       "      <td>-71.085359</td>\n",
       "    </tr>\n",
       "    <tr>\n",
       "      <th>3</th>\n",
       "      <td>I182054888</td>\n",
       "      <td>Other</td>\n",
       "      <td>0</td>\n",
       "      <td>2015-07-12 15:37:00</td>\n",
       "      <td>42.312243</td>\n",
       "      <td>-71.075499</td>\n",
       "      <td>Roxbury</td>\n",
       "      <td>42.328894</td>\n",
       "      <td>-71.085359</td>\n",
       "    </tr>\n",
       "    <tr>\n",
       "      <th>4</th>\n",
       "      <td>I182054888</td>\n",
       "      <td>Other</td>\n",
       "      <td>0</td>\n",
       "      <td>2015-07-12 15:37:00</td>\n",
       "      <td>42.312243</td>\n",
       "      <td>-71.075499</td>\n",
       "      <td>Roxbury</td>\n",
       "      <td>42.328894</td>\n",
       "      <td>-71.085359</td>\n",
       "    </tr>\n",
       "  </tbody>\n",
       "</table>\n",
       "</div>"
      ],
      "text/plain": [
       "  INCIDENT_NUMBER       OFFENSE_CODE_GROUP  SHOOTING     OCCURRED_ON_DATE  \\\n",
       "0      I192068249                    Other         0  2015-08-28 10:20:00   \n",
       "1      I182074094  Violence and harassment         0  2015-09-14 09:31:00   \n",
       "2      I182054888  Violence and harassment         0  2015-07-12 15:37:00   \n",
       "3      I182054888                    Other         0  2015-07-12 15:37:00   \n",
       "4      I182054888                    Other         0  2015-07-12 15:37:00   \n",
       "\n",
       "         LAT       LONG     NAME  LAT_POLICE_STATION  LONG_POLICE_STATION  \n",
       "0  42.330119 -71.084251  Roxbury           42.328894           -71.085359  \n",
       "1  42.315142 -71.067047  Roxbury           42.328894           -71.085359  \n",
       "2  42.312243 -71.075499  Roxbury           42.328894           -71.085359  \n",
       "3  42.312243 -71.075499  Roxbury           42.328894           -71.085359  \n",
       "4  42.312243 -71.075499  Roxbury           42.328894           -71.085359  "
      ]
     },
     "execution_count": 2,
     "metadata": {},
     "output_type": "execute_result"
    }
   ],
   "source": [
    "# Load the dataset\n",
    "from data import load_data_viz_data\n",
    "\n",
    "data = load_data_viz_data()\n",
    "data[['LAT','LONG']] = data[['LAT','LONG']].astype('float64')\n",
    "\n",
    "print(\"Shape of the DataFrame:\", data.shape)\n",
    "\n",
    "data.head()"
   ]
  },
  {
   "cell_type": "code",
   "execution_count": 3,
   "id": "40f4386e",
   "metadata": {
    "slideshow": {
     "slide_type": "skip"
    }
   },
   "outputs": [],
   "source": [
    "# First Group by to get counted and sorted incident values for each district\n",
    "df_agg = data.groupby(['NAME','OFFENSE_CODE_GROUP'])\\\n",
    "                .agg(['count'])['INCIDENT_NUMBER']\\\n",
    "                .groupby('NAME', group_keys=False)\\\n",
    "                .apply(lambda x: x.sort_values(by='count', ascending=False))\n",
    "df_agg.reset_index(inplace=True)\n",
    "result_most_commons = df_agg.groupby(['NAME']).head(1).set_index('NAME')"
   ]
  },
  {
   "cell_type": "markdown",
   "id": "0dc341d9",
   "metadata": {
    "slideshow": {
     "slide_type": "slide"
    }
   },
   "source": [
    "## What's happening the most in districts ?\n",
    "\n",
    "Let's take two districts as examples and see what are the most common crimes in there :"
   ]
  },
  {
   "cell_type": "code",
   "execution_count": 4,
   "id": "8c76d23c",
   "metadata": {
    "slideshow": {
     "slide_type": "skip"
    }
   },
   "outputs": [],
   "source": [
    "# Making boolean series filtering on town\n",
    "my_filter = df_agg[\"NAME\"]==\"Brighton\"\n",
    "  \n",
    "# Filtering data on the previous dataset to get all categories of incidents by district\n",
    "df_agg.where(my_filter)\n",
    "df_brighton = df_agg.dropna()"
   ]
  },
  {
   "cell_type": "code",
   "execution_count": 5,
   "id": "7b01435c",
   "metadata": {
    "slideshow": {
     "slide_type": "skip"
    }
   },
   "outputs": [],
   "source": [
    "# Making boolean series filtering on town\n",
    "my_filter = df_agg[\"NAME\"]==\"Roxbury\"\n",
    "  \n",
    "# Filtering data on the previous dataset to get all categories of incidents by district\n",
    "df_agg.where(my_filter)\n",
    "df_roxbury = df_agg.dropna()"
   ]
  },
  {
   "cell_type": "code",
   "execution_count": 6,
   "id": "25e34f68",
   "metadata": {
    "slideshow": {
     "slide_type": "fragment"
    }
   },
   "outputs": [
    {
     "data": {
      "image/png": "[encoded data removed]",
      "text/plain": [
       "<Figure size 1200x240 with 2 Axes>"
      ]
     },
     "metadata": {
      "needs_background": "light"
     },
     "output_type": "display_data"
    }
   ],
   "source": [
    "figure(figsize=(15, 3), dpi=80)\n",
    "plt.subplot(1, 2, 1)\n",
    "plt.title('Brighton')\n",
    "plt.bar(df_brighton['OFFENSE_CODE_GROUP'], df_brighton['count'])\n",
    "plt.xticks(rotation = 90)\n",
    "plt.subplot(1, 2, 2)\n",
    "plt.title('Roxbury')\n",
    "plt.bar(df_roxbury['OFFENSE_CODE_GROUP'], df_roxbury['count'])\n",
    "plt.xticks(rotation = 90)\n",
    "plt.show()"
   ]
  },
  {
   "cell_type": "markdown",
   "id": "78ac787e",
   "metadata": {
    "slideshow": {
     "slide_type": "slide"
    }
   },
   "source": [
    "We have saw that Larceny and vandalism is the most current crimes in both district, it's almost the double of the second place : Police investigation procedure.\n",
    "\n",
    "## What about the hours of the crimes ?"
   ]
  },
  {
   "cell_type": "code",
   "execution_count": 7,
   "id": "dae5726f",
   "metadata": {
    "slideshow": {
     "slide_type": "skip"
    }
   },
   "outputs": [
    {
     "name": "stdout",
     "output_type": "stream",
     "text": [
      "<class 'pandas.core.frame.DataFrame'>\n",
      "Int64Index: 237221 entries, 0 to 237220\n",
      "Data columns (total 9 columns):\n",
      " #   Column               Non-Null Count   Dtype         \n",
      "---  ------               --------------   -----         \n",
      " 0   INCIDENT_NUMBER      237221 non-null  object        \n",
      " 1   OFFENSE_CODE_GROUP   237221 non-null  object        \n",
      " 2   SHOOTING             237221 non-null  int64         \n",
      " 3   OCCURRED_ON_DATE     237221 non-null  datetime64[ns]\n",
      " 4   LAT                  237221 non-null  float64       \n",
      " 5   LONG                 237221 non-null  float64       \n",
      " 6   NAME                 237221 non-null  object        \n",
      " 7   LAT_POLICE_STATION   237221 non-null  float64       \n",
      " 8   LONG_POLICE_STATION  237221 non-null  float64       \n",
      "dtypes: datetime64[ns](1), float64(4), int64(1), object(3)\n",
      "memory usage: 26.2+ MB\n"
     ]
    }
   ],
   "source": [
    "data_hours = data.copy()\n",
    "data_hours['OCCURRED_ON_DATE'] = pd.to_datetime(data['OCCURRED_ON_DATE'], format='%Y-%m-%d %H:%M:%S')\n",
    "data_hours.info()"
   ]
  },
  {
   "cell_type": "code",
   "execution_count": 8,
   "id": "b8f3ddb1",
   "metadata": {
    "slideshow": {
     "slide_type": "skip"
    }
   },
   "outputs": [],
   "source": [
    "data_hours.set_index('OCCURRED_ON_DATE', inplace=True)"
   ]
  },
  {
   "cell_type": "code",
   "execution_count": 9,
   "id": "00d8f2a6",
   "metadata": {
    "slideshow": {
     "slide_type": "skip"
    }
   },
   "outputs": [
    {
     "data": {
      "text/html": [
       "<div>\n",
       "<style scoped>\n",
       "    .dataframe tbody tr th:only-of-type {\n",
       "        vertical-align: middle;\n",
       "    }\n",
       "\n",
       "    .dataframe tbody tr th {\n",
       "        vertical-align: top;\n",
       "    }\n",
       "\n",
       "    .dataframe thead th {\n",
       "        text-align: right;\n",
       "    }\n",
       "</style>\n",
       "<table border=\"1\" class=\"dataframe\">\n",
       "  <thead>\n",
       "    <tr style=\"text-align: right;\">\n",
       "      <th></th>\n",
       "      <th>INCIDENT_NUMBER</th>\n",
       "      <th>OFFENSE_CODE_GROUP</th>\n",
       "      <th>SHOOTING</th>\n",
       "      <th>LAT</th>\n",
       "      <th>LONG</th>\n",
       "      <th>NAME</th>\n",
       "      <th>LAT_POLICE_STATION</th>\n",
       "      <th>LONG_POLICE_STATION</th>\n",
       "      <th>OCCURRED_ON_DATE</th>\n",
       "    </tr>\n",
       "    <tr>\n",
       "      <th>OCCURRED_ON_DATE</th>\n",
       "      <th></th>\n",
       "      <th></th>\n",
       "      <th></th>\n",
       "      <th></th>\n",
       "      <th></th>\n",
       "      <th></th>\n",
       "      <th></th>\n",
       "      <th></th>\n",
       "      <th></th>\n",
       "    </tr>\n",
       "  </thead>\n",
       "  <tbody>\n",
       "    <tr>\n",
       "      <th>2015-08-28 10:20:00</th>\n",
       "      <td>I192068249</td>\n",
       "      <td>Other</td>\n",
       "      <td>0</td>\n",
       "      <td>42.330119</td>\n",
       "      <td>-71.084251</td>\n",
       "      <td>Roxbury</td>\n",
       "      <td>42.328894</td>\n",
       "      <td>-71.085359</td>\n",
       "      <td>10</td>\n",
       "    </tr>\n",
       "    <tr>\n",
       "      <th>2015-09-14 09:31:00</th>\n",
       "      <td>I182074094</td>\n",
       "      <td>Violence and harassment</td>\n",
       "      <td>0</td>\n",
       "      <td>42.315142</td>\n",
       "      <td>-71.067047</td>\n",
       "      <td>Roxbury</td>\n",
       "      <td>42.328894</td>\n",
       "      <td>-71.085359</td>\n",
       "      <td>9</td>\n",
       "    </tr>\n",
       "    <tr>\n",
       "      <th>2015-07-12 15:37:00</th>\n",
       "      <td>I182054888</td>\n",
       "      <td>Violence and harassment</td>\n",
       "      <td>0</td>\n",
       "      <td>42.312243</td>\n",
       "      <td>-71.075499</td>\n",
       "      <td>Roxbury</td>\n",
       "      <td>42.328894</td>\n",
       "      <td>-71.085359</td>\n",
       "      <td>15</td>\n",
       "    </tr>\n",
       "    <tr>\n",
       "      <th>2015-07-12 15:37:00</th>\n",
       "      <td>I182054888</td>\n",
       "      <td>Other</td>\n",
       "      <td>0</td>\n",
       "      <td>42.312243</td>\n",
       "      <td>-71.075499</td>\n",
       "      <td>Roxbury</td>\n",
       "      <td>42.328894</td>\n",
       "      <td>-71.085359</td>\n",
       "      <td>15</td>\n",
       "    </tr>\n",
       "    <tr>\n",
       "      <th>2015-07-12 15:37:00</th>\n",
       "      <td>I182054888</td>\n",
       "      <td>Other</td>\n",
       "      <td>0</td>\n",
       "      <td>42.312243</td>\n",
       "      <td>-71.075499</td>\n",
       "      <td>Roxbury</td>\n",
       "      <td>42.328894</td>\n",
       "      <td>-71.085359</td>\n",
       "      <td>15</td>\n",
       "    </tr>\n",
       "    <tr>\n",
       "      <th>...</th>\n",
       "      <td>...</td>\n",
       "      <td>...</td>\n",
       "      <td>...</td>\n",
       "      <td>...</td>\n",
       "      <td>...</td>\n",
       "      <td>...</td>\n",
       "      <td>...</td>\n",
       "      <td>...</td>\n",
       "      <td>...</td>\n",
       "    </tr>\n",
       "    <tr>\n",
       "      <th>2018-08-09 18:00:00</th>\n",
       "      <td>I172049757</td>\n",
       "      <td>Police investigation procedure</td>\n",
       "      <td>0</td>\n",
       "      <td>42.355216</td>\n",
       "      <td>-71.060129</td>\n",
       "      <td>Charlestown</td>\n",
       "      <td>42.361800</td>\n",
       "      <td>-71.060300</td>\n",
       "      <td>18</td>\n",
       "    </tr>\n",
       "    <tr>\n",
       "      <th>2018-08-09 18:00:00</th>\n",
       "      <td>I172049757</td>\n",
       "      <td>Drugs and disorderly conduct</td>\n",
       "      <td>0</td>\n",
       "      <td>42.355216</td>\n",
       "      <td>-71.060129</td>\n",
       "      <td>Charlestown</td>\n",
       "      <td>42.361800</td>\n",
       "      <td>-71.060300</td>\n",
       "      <td>18</td>\n",
       "    </tr>\n",
       "    <tr>\n",
       "      <th>2018-12-12 05:00:00</th>\n",
       "      <td>I172027369</td>\n",
       "      <td>Other</td>\n",
       "      <td>0</td>\n",
       "      <td>42.376852</td>\n",
       "      <td>-71.068873</td>\n",
       "      <td>Charlestown</td>\n",
       "      <td>42.361800</td>\n",
       "      <td>-71.060300</td>\n",
       "      <td>5</td>\n",
       "    </tr>\n",
       "    <tr>\n",
       "      <th>2018-12-12 05:00:00</th>\n",
       "      <td>I172027369</td>\n",
       "      <td>Police investigation procedure</td>\n",
       "      <td>0</td>\n",
       "      <td>42.376852</td>\n",
       "      <td>-71.068873</td>\n",
       "      <td>Charlestown</td>\n",
       "      <td>42.361800</td>\n",
       "      <td>-71.060300</td>\n",
       "      <td>5</td>\n",
       "    </tr>\n",
       "    <tr>\n",
       "      <th>2018-12-12 05:00:00</th>\n",
       "      <td>I172027369</td>\n",
       "      <td>Violence and harassment</td>\n",
       "      <td>0</td>\n",
       "      <td>42.376852</td>\n",
       "      <td>-71.068873</td>\n",
       "      <td>Charlestown</td>\n",
       "      <td>42.361800</td>\n",
       "      <td>-71.060300</td>\n",
       "      <td>5</td>\n",
       "    </tr>\n",
       "  </tbody>\n",
       "</table>\n",
       "<p>237221 rows × 9 columns</p>\n",
       "</div>"
      ],
      "text/plain": [
       "                    INCIDENT_NUMBER              OFFENSE_CODE_GROUP  SHOOTING  \\\n",
       "OCCURRED_ON_DATE                                                                \n",
       "2015-08-28 10:20:00      I192068249                           Other         0   \n",
       "2015-09-14 09:31:00      I182074094         Violence and harassment         0   \n",
       "2015-07-12 15:37:00      I182054888         Violence and harassment         0   \n",
       "2015-07-12 15:37:00      I182054888                           Other         0   \n",
       "2015-07-12 15:37:00      I182054888                           Other         0   \n",
       "...                             ...                             ...       ...   \n",
       "2018-08-09 18:00:00      I172049757  Police investigation procedure         0   \n",
       "2018-08-09 18:00:00      I172049757    Drugs and disorderly conduct         0   \n",
       "2018-12-12 05:00:00      I172027369                           Other         0   \n",
       "2018-12-12 05:00:00      I172027369  Police investigation procedure         0   \n",
       "2018-12-12 05:00:00      I172027369         Violence and harassment         0   \n",
       "\n",
       "                           LAT       LONG         NAME  LAT_POLICE_STATION  \\\n",
       "OCCURRED_ON_DATE                                                             \n",
       "2015-08-28 10:20:00  42.330119 -71.084251      Roxbury           42.328894   \n",
       "2015-09-14 09:31:00  42.315142 -71.067047      Roxbury           42.328894   \n",
       "2015-07-12 15:37:00  42.312243 -71.075499      Roxbury           42.328894   \n",
       "2015-07-12 15:37:00  42.312243 -71.075499      Roxbury           42.328894   \n",
       "2015-07-12 15:37:00  42.312243 -71.075499      Roxbury           42.328894   \n",
       "...                        ...        ...          ...                 ...   \n",
       "2018-08-09 18:00:00  42.355216 -71.060129  Charlestown           42.361800   \n",
       "2018-08-09 18:00:00  42.355216 -71.060129  Charlestown           42.361800   \n",
       "2018-12-12 05:00:00  42.376852 -71.068873  Charlestown           42.361800   \n",
       "2018-12-12 05:00:00  42.376852 -71.068873  Charlestown           42.361800   \n",
       "2018-12-12 05:00:00  42.376852 -71.068873  Charlestown           42.361800   \n",
       "\n",
       "                     LONG_POLICE_STATION  OCCURRED_ON_DATE  \n",
       "OCCURRED_ON_DATE                                            \n",
       "2015-08-28 10:20:00           -71.085359                10  \n",
       "2015-09-14 09:31:00           -71.085359                 9  \n",
       "2015-07-12 15:37:00           -71.085359                15  \n",
       "2015-07-12 15:37:00           -71.085359                15  \n",
       "2015-07-12 15:37:00           -71.085359                15  \n",
       "...                                  ...               ...  \n",
       "2018-08-09 18:00:00           -71.060300                18  \n",
       "2018-08-09 18:00:00           -71.060300                18  \n",
       "2018-12-12 05:00:00           -71.060300                 5  \n",
       "2018-12-12 05:00:00           -71.060300                 5  \n",
       "2018-12-12 05:00:00           -71.060300                 5  \n",
       "\n",
       "[237221 rows x 9 columns]"
      ]
     },
     "execution_count": 9,
     "metadata": {},
     "output_type": "execute_result"
    }
   ],
   "source": [
    "hours = data_hours.index.hour\n",
    "data_hours = pd.concat([data_hours, pd.DataFrame(hours, index=data_hours.index)], axis = 1)\n",
    "data_hours"
   ]
  },
  {
   "cell_type": "code",
   "execution_count": 13,
   "id": "0d518fef",
   "metadata": {
    "slideshow": {
     "slide_type": "skip"
    }
   },
   "outputs": [
    {
     "data": {
      "text/html": [
       "<div>\n",
       "<style scoped>\n",
       "    .dataframe tbody tr th:only-of-type {\n",
       "        vertical-align: middle;\n",
       "    }\n",
       "\n",
       "    .dataframe tbody tr th {\n",
       "        vertical-align: top;\n",
       "    }\n",
       "\n",
       "    .dataframe thead th {\n",
       "        text-align: right;\n",
       "    }\n",
       "</style>\n",
       "<table border=\"1\" class=\"dataframe\">\n",
       "  <thead>\n",
       "    <tr style=\"text-align: right;\">\n",
       "      <th></th>\n",
       "      <th>INCIDENT_NUMBER</th>\n",
       "      <th>OFFENSE_CODE_GROUP</th>\n",
       "      <th>SHOOTING</th>\n",
       "      <th>LAT</th>\n",
       "      <th>LONG</th>\n",
       "      <th>NAME</th>\n",
       "      <th>LAT_POLICE_STATION</th>\n",
       "      <th>LONG_POLICE_STATION</th>\n",
       "      <th>OCCURRED_ON_DATE</th>\n",
       "    </tr>\n",
       "    <tr>\n",
       "      <th>datetime</th>\n",
       "      <th></th>\n",
       "      <th></th>\n",
       "      <th></th>\n",
       "      <th></th>\n",
       "      <th></th>\n",
       "      <th></th>\n",
       "      <th></th>\n",
       "      <th></th>\n",
       "      <th></th>\n",
       "    </tr>\n",
       "  </thead>\n",
       "  <tbody>\n",
       "    <tr>\n",
       "      <th>2015-08-28 10:20:00</th>\n",
       "      <td>I192068249</td>\n",
       "      <td>Other</td>\n",
       "      <td>0</td>\n",
       "      <td>42.330119</td>\n",
       "      <td>-71.084251</td>\n",
       "      <td>Roxbury</td>\n",
       "      <td>42.328894</td>\n",
       "      <td>-71.085359</td>\n",
       "      <td>10</td>\n",
       "    </tr>\n",
       "    <tr>\n",
       "      <th>2015-09-14 09:31:00</th>\n",
       "      <td>I182074094</td>\n",
       "      <td>Violence and harassment</td>\n",
       "      <td>0</td>\n",
       "      <td>42.315142</td>\n",
       "      <td>-71.067047</td>\n",
       "      <td>Roxbury</td>\n",
       "      <td>42.328894</td>\n",
       "      <td>-71.085359</td>\n",
       "      <td>9</td>\n",
       "    </tr>\n",
       "    <tr>\n",
       "      <th>2015-07-12 15:37:00</th>\n",
       "      <td>I182054888</td>\n",
       "      <td>Violence and harassment</td>\n",
       "      <td>0</td>\n",
       "      <td>42.312243</td>\n",
       "      <td>-71.075499</td>\n",
       "      <td>Roxbury</td>\n",
       "      <td>42.328894</td>\n",
       "      <td>-71.085359</td>\n",
       "      <td>15</td>\n",
       "    </tr>\n",
       "    <tr>\n",
       "      <th>2015-07-12 15:37:00</th>\n",
       "      <td>I182054888</td>\n",
       "      <td>Other</td>\n",
       "      <td>0</td>\n",
       "      <td>42.312243</td>\n",
       "      <td>-71.075499</td>\n",
       "      <td>Roxbury</td>\n",
       "      <td>42.328894</td>\n",
       "      <td>-71.085359</td>\n",
       "      <td>15</td>\n",
       "    </tr>\n",
       "    <tr>\n",
       "      <th>2015-07-12 15:37:00</th>\n",
       "      <td>I182054888</td>\n",
       "      <td>Other</td>\n",
       "      <td>0</td>\n",
       "      <td>42.312243</td>\n",
       "      <td>-71.075499</td>\n",
       "      <td>Roxbury</td>\n",
       "      <td>42.328894</td>\n",
       "      <td>-71.085359</td>\n",
       "      <td>15</td>\n",
       "    </tr>\n",
       "    <tr>\n",
       "      <th>...</th>\n",
       "      <td>...</td>\n",
       "      <td>...</td>\n",
       "      <td>...</td>\n",
       "      <td>...</td>\n",
       "      <td>...</td>\n",
       "      <td>...</td>\n",
       "      <td>...</td>\n",
       "      <td>...</td>\n",
       "      <td>...</td>\n",
       "    </tr>\n",
       "    <tr>\n",
       "      <th>2018-08-09 18:00:00</th>\n",
       "      <td>I172049757</td>\n",
       "      <td>Police investigation procedure</td>\n",
       "      <td>0</td>\n",
       "      <td>42.355216</td>\n",
       "      <td>-71.060129</td>\n",
       "      <td>Charlestown</td>\n",
       "      <td>42.361800</td>\n",
       "      <td>-71.060300</td>\n",
       "      <td>18</td>\n",
       "    </tr>\n",
       "    <tr>\n",
       "      <th>2018-08-09 18:00:00</th>\n",
       "      <td>I172049757</td>\n",
       "      <td>Drugs and disorderly conduct</td>\n",
       "      <td>0</td>\n",
       "      <td>42.355216</td>\n",
       "      <td>-71.060129</td>\n",
       "      <td>Charlestown</td>\n",
       "      <td>42.361800</td>\n",
       "      <td>-71.060300</td>\n",
       "      <td>18</td>\n",
       "    </tr>\n",
       "    <tr>\n",
       "      <th>2018-12-12 05:00:00</th>\n",
       "      <td>I172027369</td>\n",
       "      <td>Other</td>\n",
       "      <td>0</td>\n",
       "      <td>42.376852</td>\n",
       "      <td>-71.068873</td>\n",
       "      <td>Charlestown</td>\n",
       "      <td>42.361800</td>\n",
       "      <td>-71.060300</td>\n",
       "      <td>5</td>\n",
       "    </tr>\n",
       "    <tr>\n",
       "      <th>2018-12-12 05:00:00</th>\n",
       "      <td>I172027369</td>\n",
       "      <td>Police investigation procedure</td>\n",
       "      <td>0</td>\n",
       "      <td>42.376852</td>\n",
       "      <td>-71.068873</td>\n",
       "      <td>Charlestown</td>\n",
       "      <td>42.361800</td>\n",
       "      <td>-71.060300</td>\n",
       "      <td>5</td>\n",
       "    </tr>\n",
       "    <tr>\n",
       "      <th>2018-12-12 05:00:00</th>\n",
       "      <td>I172027369</td>\n",
       "      <td>Violence and harassment</td>\n",
       "      <td>0</td>\n",
       "      <td>42.376852</td>\n",
       "      <td>-71.068873</td>\n",
       "      <td>Charlestown</td>\n",
       "      <td>42.361800</td>\n",
       "      <td>-71.060300</td>\n",
       "      <td>5</td>\n",
       "    </tr>\n",
       "  </tbody>\n",
       "</table>\n",
       "<p>237221 rows × 9 columns</p>\n",
       "</div>"
      ],
      "text/plain": [
       "                    INCIDENT_NUMBER              OFFENSE_CODE_GROUP  SHOOTING  \\\n",
       "datetime                                                                        \n",
       "2015-08-28 10:20:00      I192068249                           Other         0   \n",
       "2015-09-14 09:31:00      I182074094         Violence and harassment         0   \n",
       "2015-07-12 15:37:00      I182054888         Violence and harassment         0   \n",
       "2015-07-12 15:37:00      I182054888                           Other         0   \n",
       "2015-07-12 15:37:00      I182054888                           Other         0   \n",
       "...                             ...                             ...       ...   \n",
       "2018-08-09 18:00:00      I172049757  Police investigation procedure         0   \n",
       "2018-08-09 18:00:00      I172049757    Drugs and disorderly conduct         0   \n",
       "2018-12-12 05:00:00      I172027369                           Other         0   \n",
       "2018-12-12 05:00:00      I172027369  Police investigation procedure         0   \n",
       "2018-12-12 05:00:00      I172027369         Violence and harassment         0   \n",
       "\n",
       "                           LAT       LONG         NAME  LAT_POLICE_STATION  \\\n",
       "datetime                                                                     \n",
       "2015-08-28 10:20:00  42.330119 -71.084251      Roxbury           42.328894   \n",
       "2015-09-14 09:31:00  42.315142 -71.067047      Roxbury           42.328894   \n",
       "2015-07-12 15:37:00  42.312243 -71.075499      Roxbury           42.328894   \n",
       "2015-07-12 15:37:00  42.312243 -71.075499      Roxbury           42.328894   \n",
       "2015-07-12 15:37:00  42.312243 -71.075499      Roxbury           42.328894   \n",
       "...                        ...        ...          ...                 ...   \n",
       "2018-08-09 18:00:00  42.355216 -71.060129  Charlestown           42.361800   \n",
       "2018-08-09 18:00:00  42.355216 -71.060129  Charlestown           42.361800   \n",
       "2018-12-12 05:00:00  42.376852 -71.068873  Charlestown           42.361800   \n",
       "2018-12-12 05:00:00  42.376852 -71.068873  Charlestown           42.361800   \n",
       "2018-12-12 05:00:00  42.376852 -71.068873  Charlestown           42.361800   \n",
       "\n",
       "                     LONG_POLICE_STATION  OCCURRED_ON_DATE  \n",
       "datetime                                                    \n",
       "2015-08-28 10:20:00           -71.085359                10  \n",
       "2015-09-14 09:31:00           -71.085359                 9  \n",
       "2015-07-12 15:37:00           -71.085359                15  \n",
       "2015-07-12 15:37:00           -71.085359                15  \n",
       "2015-07-12 15:37:00           -71.085359                15  \n",
       "...                                  ...               ...  \n",
       "2018-08-09 18:00:00           -71.060300                18  \n",
       "2018-08-09 18:00:00           -71.060300                18  \n",
       "2018-12-12 05:00:00           -71.060300                 5  \n",
       "2018-12-12 05:00:00           -71.060300                 5  \n",
       "2018-12-12 05:00:00           -71.060300                 5  \n",
       "\n",
       "[237221 rows x 9 columns]"
      ]
     },
     "execution_count": 13,
     "metadata": {},
     "output_type": "execute_result"
    }
   ],
   "source": [
    "data_hours.index.rename('datetime', inplace=True)\n",
    "data_hours"
   ]
  },
  {
   "cell_type": "code",
   "execution_count": 11,
   "id": "cbf96309",
   "metadata": {
    "slideshow": {
     "slide_type": "skip"
    }
   },
   "outputs": [],
   "source": [
    "# First Group by to get counted and sorted incident values for each district\n",
    "df_agg = data_hours.groupby(['NAME','OCCURRED_ON_DATE'])\\\n",
    "                .agg(['count'])['INCIDENT_NUMBER']\\\n",
    "                .groupby('NAME', group_keys=False)\\\n",
    "                .apply(lambda x: x.sort_values(by='count', ascending=False))\n",
    "df_agg.reset_index(inplace=True)\n",
    "result_most_commons = df_agg.groupby(['NAME']).head(1).set_index('NAME')"
   ]
  },
  {
   "cell_type": "code",
   "execution_count": 16,
   "id": "9336ba2b",
   "metadata": {
    "slideshow": {
     "slide_type": "skip"
    }
   },
   "outputs": [],
   "source": [
    "res = pd.DataFrame(result_most_commons['OCCURRED_ON_DATE'])\n",
    "res.reset_index(inplace=True)"
   ]
  },
  {
   "cell_type": "code",
   "execution_count": 52,
   "id": "3634d836",
   "metadata": {
    "slideshow": {
     "slide_type": "fragment"
    }
   },
   "outputs": [
    {
     "data": {
      "image/png": "[encoded data removed]",
      "text/plain": [
       "<Figure size 800x320 with 1 Axes>"
      ]
     },
     "metadata": {
      "needs_background": "light"
     },
     "output_type": "display_data"
    }
   ],
   "source": [
    "figure(figsize=(10, 4), dpi=80)\n",
    "plt.scatter(res['OCCURRED_ON_DATE'], res['NAME'])\n",
    "plt.xticks(np.arange(0,24))\n",
    "plt.xlabel(\"Hours\")\n",
    "plt.xlim(right = 23, left = 0)\n",
    "plt.title('Hours of commited crimes')\n",
    "plt.show()"
   ]
  },
  {
   "cell_type": "markdown",
   "id": "aa4306e6",
   "metadata": {
    "slideshow": {
     "slide_type": "fragment"
    }
   },
   "source": [
    "As we can see, most of the crimes are commited between 5pm and 7pm"
   ]
  },
  {
   "cell_type": "code",
   "execution_count": 39,
   "id": "18c84446",
   "metadata": {
    "slideshow": {
     "slide_type": "skip"
    }
   },
   "outputs": [],
   "source": [
    "# Haversine distance function\n",
    "from math import radians, sin, cos, asin, sqrt\n",
    "\n",
    "def haversine_distance(lon1, lat1, lon2, lat2):\n",
    "    \"\"\"\n",
    "    Compute distance (km) between two pairs of (lat, lng) coordinates\n",
    "    See - (https://en.wikipedia.org/wiki/Haversine_formula)\n",
    "    \"\"\"\n",
    "    \n",
    "    lon1, lat1, lon2, lat2 = map(radians, [lon1, lat1, lon2, lat2])\n",
    "    dlon = lon2 - lon1\n",
    "    dlat = lat2 - lat1\n",
    "    \n",
    "    a = sin(dlat / 2) ** 2 + cos(lat1) * cos(lat2) * sin(dlon / 2) ** 2\n",
    "    \n",
    "    return 2 * 6371 * asin(sqrt(a))"
   ]
  },
  {
   "cell_type": "code",
   "execution_count": 40,
   "id": "d4525ed2",
   "metadata": {
    "slideshow": {
     "slide_type": "skip"
    }
   },
   "outputs": [],
   "source": [
    "# YOUR CODE HERE\n",
    "\n",
    "# Copy data to not work directly on the dataset\n",
    "df_average = data.copy()\n",
    "\n",
    "# Apply the haversine distance function to every row in the dataset\n",
    "# using LONG, LAT of incidents and LONG_POLICE_STATION, LAT_POLICE_STATION of police stations for each district\n",
    "df_average[\"haversine_distance\"] = df_average.apply(\n",
    "    lambda row: haversine_distance(\n",
    "        row[\"LONG\"],\n",
    "        row[\"LAT\"],\n",
    "        row[\"LONG_POLICE_STATION\"],\n",
    "        row[\"LAT_POLICE_STATION\"],\n",
    "    ),\n",
    "    axis=1,\n",
    ")"
   ]
  },
  {
   "cell_type": "code",
   "execution_count": 49,
   "id": "876a5c77",
   "metadata": {
    "slideshow": {
     "slide_type": "skip"
    }
   },
   "outputs": [
    {
     "data": {
      "text/html": [
       "<div>\n",
       "<style scoped>\n",
       "    .dataframe tbody tr th:only-of-type {\n",
       "        vertical-align: middle;\n",
       "    }\n",
       "\n",
       "    .dataframe tbody tr th {\n",
       "        vertical-align: top;\n",
       "    }\n",
       "\n",
       "    .dataframe thead th {\n",
       "        text-align: right;\n",
       "    }\n",
       "</style>\n",
       "<table border=\"1\" class=\"dataframe\">\n",
       "  <thead>\n",
       "    <tr style=\"text-align: right;\">\n",
       "      <th></th>\n",
       "      <th>NAME</th>\n",
       "      <th>haversine_distance</th>\n",
       "    </tr>\n",
       "  </thead>\n",
       "  <tbody>\n",
       "    <tr>\n",
       "      <th>0</th>\n",
       "      <td>Brighton</td>\n",
       "      <td>3.770867</td>\n",
       "    </tr>\n",
       "    <tr>\n",
       "      <th>1</th>\n",
       "      <td>Charlestown</td>\n",
       "      <td>58.758394</td>\n",
       "    </tr>\n",
       "    <tr>\n",
       "      <th>2</th>\n",
       "      <td>Dorchester</td>\n",
       "      <td>3.174444</td>\n",
       "    </tr>\n",
       "    <tr>\n",
       "      <th>3</th>\n",
       "      <td>Downtown</td>\n",
       "      <td>6.336657</td>\n",
       "    </tr>\n",
       "    <tr>\n",
       "      <th>4</th>\n",
       "      <td>East Boston</td>\n",
       "      <td>5.568626</td>\n",
       "    </tr>\n",
       "    <tr>\n",
       "      <th>5</th>\n",
       "      <td>Hyde Park</td>\n",
       "      <td>2.397613</td>\n",
       "    </tr>\n",
       "    <tr>\n",
       "      <th>6</th>\n",
       "      <td>Jamaica Plain</td>\n",
       "      <td>2.585737</td>\n",
       "    </tr>\n",
       "    <tr>\n",
       "      <th>7</th>\n",
       "      <td>Mattapan</td>\n",
       "      <td>1.908636</td>\n",
       "    </tr>\n",
       "    <tr>\n",
       "      <th>8</th>\n",
       "      <td>Roxbury</td>\n",
       "      <td>2.989029</td>\n",
       "    </tr>\n",
       "    <tr>\n",
       "      <th>9</th>\n",
       "      <td>South Boston</td>\n",
       "      <td>31.454220</td>\n",
       "    </tr>\n",
       "    <tr>\n",
       "      <th>10</th>\n",
       "      <td>South End</td>\n",
       "      <td>1.862039</td>\n",
       "    </tr>\n",
       "    <tr>\n",
       "      <th>11</th>\n",
       "      <td>West Roxbury</td>\n",
       "      <td>18.370045</td>\n",
       "    </tr>\n",
       "  </tbody>\n",
       "</table>\n",
       "</div>"
      ],
      "text/plain": [
       "             NAME  haversine_distance\n",
       "0        Brighton            3.770867\n",
       "1     Charlestown           58.758394\n",
       "2      Dorchester            3.174444\n",
       "3        Downtown            6.336657\n",
       "4     East Boston            5.568626\n",
       "5       Hyde Park            2.397613\n",
       "6   Jamaica Plain            2.585737\n",
       "7        Mattapan            1.908636\n",
       "8         Roxbury            2.989029\n",
       "9    South Boston           31.454220\n",
       "10      South End            1.862039\n",
       "11   West Roxbury           18.370045"
      ]
     },
     "execution_count": 49,
     "metadata": {},
     "output_type": "execute_result"
    }
   ],
   "source": [
    "result_distance = pd.DataFrame(df_average.groupby(['NAME']).mean()['haversine_distance'])\n",
    "result_distance.reset_index(inplace=True)\n",
    "result_distance"
   ]
  },
  {
   "cell_type": "markdown",
   "id": "2c27b022",
   "metadata": {
    "slideshow": {
     "slide_type": "slide"
    }
   },
   "source": [
    "## Now, let's see how far are the commited crime from the police station depending on the district"
   ]
  },
  {
   "cell_type": "code",
   "execution_count": 51,
   "id": "7d099c13",
   "metadata": {
    "slideshow": {
     "slide_type": "fragment"
    }
   },
   "outputs": [
    {
     "data": {
      "image/png": "[encoded data removed]",
      "text/plain": [
       "<Figure size 800x320 with 1 Axes>"
      ]
     },
     "metadata": {
      "needs_background": "light"
     },
     "output_type": "display_data"
    }
   ],
   "source": [
    "figure(figsize=(10, 4), dpi=80)\n",
    "plt.bar(result_distance['NAME'], result_distance['haversine_distance'])\n",
    "plt.xticks(rotation=90)\n",
    "plt.xlabel(\"Distance in km\")\n",
    "plt.title('Distance between police station and commited crime')\n",
    "plt.show()"
   ]
  },
  {
   "cell_type": "markdown",
   "id": "9b4c872b",
   "metadata": {
    "slideshow": {
     "slide_type": "slide"
    }
   },
   "source": [
    "In conclusion :\n",
    "\n",
    "- We should investigate on why there is so much larceny and vandalism, it's the most frequent case in 90% of the districts.\n",
    "- We could deploy more police teams between 5pm and 7pm to prevent and anticipate the peak of commited crimes before night time.\n",
    "- For certain district where the crimes are far from the police station, maybe we can relocate the station to be more effective on the duration between the crime and the intervention of the police.\n",
    "\n",
    "Thank for your attention"
   ]
  }
 ],
 "metadata": {
  "celltoolbar": "Diaporama",
  "kernelspec": {
   "display_name": "Python 3",
   "language": "python",
   "name": "python3"
  },
  "language_info": {
   "codemirror_mode": {
    "name": "ipython",
    "version": 3
   },
   "file_extension": ".py",
   "mimetype": "text/x-python",
   "name": "python",
   "nbconvert_exporter": "python",
   "pygments_lexer": "ipython3",
   "version": "3.8.6"
  },
  "toc": {
   "base_numbering": 1,
   "nav_menu": {},
   "number_sections": true,
   "sideBar": true,
   "skip_h1_title": false,
   "title_cell": "Table of Contents",
   "title_sidebar": "Contents",
   "toc_cell": false,
   "toc_position": {},
   "toc_section_display": true,
   "toc_window_display": false
  }
 },
 "nbformat": 4,
 "nbformat_minor": 5
}
